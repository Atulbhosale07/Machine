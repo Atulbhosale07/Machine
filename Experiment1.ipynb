{
  "nbformat": 4,
  "nbformat_minor": 0,
  "metadata": {
    "colab": {
      "provenance": [],
      "authorship_tag": "ABX9TyM7PaPQSM5Sbyl8oTRh/pi9",
      "include_colab_link": true
    },
    "kernelspec": {
      "name": "python3",
      "display_name": "Python 3"
    },
    "language_info": {
      "name": "python"
    }
  },
  "cells": [
    {
      "cell_type": "markdown",
      "metadata": {
        "id": "view-in-github",
        "colab_type": "text"
      },
      "source": [
        "<a href=\"https://colab.research.google.com/github/Atulbhosale07/Machine/blob/main/Experiment1.ipynb\" target=\"_parent\"><img src=\"https://colab.research.google.com/assets/colab-badge.svg\" alt=\"Open In Colab\"/></a>"
      ]
    },
    {
      "cell_type": "code",
      "execution_count": null,
      "metadata": {
        "colab": {
          "base_uri": "https://localhost:8080/"
        },
        "id": "S07KXYFBZnHY",
        "outputId": "ae16d789-05d7-4571-e188-11a448a4405d"
      },
      "outputs": [
        {
          "output_type": "stream",
          "name": "stdout",
          "text": [
            "Enter the Radius of circle\n",
            "4\n",
            "Area of circle is 50.24\n"
          ]
        }
      ],
      "source": [
        "print(\"Enter the Radius of circle\")\n",
        "rad=int(input())\n",
        "area=3.14*rad*rad\n",
        "print(\"Area of circle is\",area)"
      ]
    }
  ]
}